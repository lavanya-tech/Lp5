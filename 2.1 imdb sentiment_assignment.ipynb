{
 "cells": [
  {
   "cell_type": "code",
   "execution_count": null,
   "metadata": {
    "colab": {
     "base_uri": "https://localhost:8080/"
    },
    "executionInfo": {
     "elapsed": 64405,
     "status": "ok",
     "timestamp": 1683666089163,
     "user": {
      "displayName": "Ankit Kumar",
      "userId": "08027391101207374728"
     },
     "user_tz": -330
    },
    "id": "FpFWjhtQUJty",
    "outputId": "db6190ee-22e4-4921-a511-983efa0302c9"
   },
   "outputs": [],
   "source": [
    "import nltk\n",
    "nltk.download('punkt')\n",
    "# import nltk\n",
    "nltk.download('wordnet')\n",
    "nltk.download('stopwords')\n"
   ]
  },
  {
   "cell_type": "code",
   "execution_count": 1,
   "metadata": {
    "colab": {
     "base_uri": "https://localhost:8080/"
    },
    "executionInfo": {
     "elapsed": 3,
     "status": "ok",
     "timestamp": 1683666182715,
     "user": {
      "displayName": "Ankit Kumar",
      "userId": "08027391101207374728"
     },
     "user_tz": -330
    },
    "id": "pVIquglfT1M0",
    "outputId": "9294c724-0e37-4c02-a454-4dcab5d573a6",
    "tags": []
   },
   "outputs": [
    {
     "name": "stderr",
     "output_type": "stream",
     "text": [
      "2023-05-15 12:43:13.774585: I tensorflow/tsl/cuda/cudart_stub.cc:28] Could not find cuda drivers on your machine, GPU will not be used.\n",
      "2023-05-15 12:43:13.847569: I tensorflow/tsl/cuda/cudart_stub.cc:28] Could not find cuda drivers on your machine, GPU will not be used.\n",
      "2023-05-15 12:43:13.848634: I tensorflow/core/platform/cpu_feature_guard.cc:182] This TensorFlow binary is optimized to use available CPU instructions in performance-critical operations.\n",
      "To enable the following instructions: AVX2 FMA, in other operations, rebuild TensorFlow with the appropriate compiler flags.\n",
      "2023-05-15 12:43:14.887987: W tensorflow/compiler/tf2tensorrt/utils/py_utils.cc:38] TF-TRT Warning: Could not find TensorRT\n",
      "[nltk_data] Error loading stopwords: <urlopen error [Errno -2] Name or\n",
      "[nltk_data]     service not known>\n"
     ]
    }
   ],
   "source": [
    "import pandas as pd\n",
    "import numpy as np\n",
    "import re\n",
    "\n",
    "import string\n",
    "from string import digits\n",
    "\n",
    "import numpy as np\n",
    "\n",
    "import tensorflow as tf\n",
    "from tensorflow.keras.preprocessing.text import Tokenizer\n",
    "from tensorflow.keras.preprocessing.sequence import pad_sequences\n",
    "from tensorflow.keras.utils import to_categorical\n",
    "\n",
    "\n",
    "from nltk.tokenize import word_tokenize\n",
    "from nltk.tokenize import word_tokenize\n",
    "from nltk.corpus import stopwords\n",
    "from nltk.stem import WordNetLemmatizer\n",
    "\n",
    "import matplotlib.pyplot as plt\n",
    "import nltk\n",
    "nltk.download('stopwords')\n",
    "lemmatizer = WordNetLemmatizer()\n",
    "stop_words = set(stopwords.words('english'))"
   ]
  },
  {
   "cell_type": "code",
   "execution_count": 3,
   "metadata": {
    "colab": {
     "base_uri": "https://localhost:8080/",
     "height": 206
    },
    "executionInfo": {
     "elapsed": 2336,
     "status": "ok",
     "timestamp": 1683666189937,
     "user": {
      "displayName": "Ankit Kumar",
      "userId": "08027391101207374728"
     },
     "user_tz": -330
    },
    "id": "t7qSy6CuT1M3",
    "outputId": "1abf983c-ae21-48f3-a5ac-dde068277045",
    "tags": []
   },
   "outputs": [
    {
     "data": {
      "text/html": [
       "<div>\n",
       "<style scoped>\n",
       "    .dataframe tbody tr th:only-of-type {\n",
       "        vertical-align: middle;\n",
       "    }\n",
       "\n",
       "    .dataframe tbody tr th {\n",
       "        vertical-align: top;\n",
       "    }\n",
       "\n",
       "    .dataframe thead th {\n",
       "        text-align: right;\n",
       "    }\n",
       "</style>\n",
       "<table border=\"1\" class=\"dataframe\">\n",
       "  <thead>\n",
       "    <tr style=\"text-align: right;\">\n",
       "      <th></th>\n",
       "      <th>review</th>\n",
       "      <th>sentiment</th>\n",
       "    </tr>\n",
       "  </thead>\n",
       "  <tbody>\n",
       "    <tr>\n",
       "      <th>0</th>\n",
       "      <td>One of the other reviewers has mentioned that ...</td>\n",
       "      <td>positive</td>\n",
       "    </tr>\n",
       "    <tr>\n",
       "      <th>1</th>\n",
       "      <td>A wonderful little production. &lt;br /&gt;&lt;br /&gt;The...</td>\n",
       "      <td>positive</td>\n",
       "    </tr>\n",
       "    <tr>\n",
       "      <th>2</th>\n",
       "      <td>I thought this was a wonderful way to spend ti...</td>\n",
       "      <td>positive</td>\n",
       "    </tr>\n",
       "    <tr>\n",
       "      <th>3</th>\n",
       "      <td>Basically there's a family where a little boy ...</td>\n",
       "      <td>negative</td>\n",
       "    </tr>\n",
       "    <tr>\n",
       "      <th>4</th>\n",
       "      <td>Petter Mattei's \"Love in the Time of Money\" is...</td>\n",
       "      <td>positive</td>\n",
       "    </tr>\n",
       "  </tbody>\n",
       "</table>\n",
       "</div>"
      ],
      "text/plain": [
       "                                              review sentiment\n",
       "0  One of the other reviewers has mentioned that ...  positive\n",
       "1  A wonderful little production. <br /><br />The...  positive\n",
       "2  I thought this was a wonderful way to spend ti...  positive\n",
       "3  Basically there's a family where a little boy ...  negative\n",
       "4  Petter Mattei's \"Love in the Time of Money\" is...  positive"
      ]
     },
     "execution_count": 3,
     "metadata": {},
     "output_type": "execute_result"
    }
   ],
   "source": [
    "df = pd.read_csv(\"data/IMDB Dataset.csv\")\n",
    "df.head()"
   ]
  },
  {
   "cell_type": "code",
   "execution_count": 4,
   "metadata": {
    "id": "yBjU_D-9T1M4",
    "tags": []
   },
   "outputs": [],
   "source": [
    "from sklearn import preprocessing\n",
    "le =  preprocessing.LabelEncoder()\n",
    "df[\"sentiment\"] = le.fit_transform(df['sentiment'])"
   ]
  },
  {
   "cell_type": "code",
   "execution_count": 5,
   "metadata": {
    "colab": {
     "base_uri": "https://localhost:8080/"
    },
    "executionInfo": {
     "elapsed": 2,
     "status": "ok",
     "timestamp": 1683666194094,
     "user": {
      "displayName": "Ankit Kumar",
      "userId": "08027391101207374728"
     },
     "user_tz": -330
    },
    "id": "ZLkjHD4fT1M5",
    "outputId": "746a5087-b986-432a-deb0-cd1f67b8284b",
    "tags": []
   },
   "outputs": [
    {
     "data": {
      "text/plain": [
       "<bound method NDFrame.head of                                                   review  sentiment\n",
       "0      One of the other reviewers has mentioned that ...          1\n",
       "1      A wonderful little production. <br /><br />The...          1\n",
       "2      I thought this was a wonderful way to spend ti...          1\n",
       "3      Basically there's a family where a little boy ...          0\n",
       "4      Petter Mattei's \"Love in the Time of Money\" is...          1\n",
       "...                                                  ...        ...\n",
       "49995  I thought this movie did a down right good job...          1\n",
       "49996  Bad plot, bad dialogue, bad acting, idiotic di...          0\n",
       "49997  I am a Catholic taught in parochial elementary...          0\n",
       "49998  I'm going to have to disagree with the previou...          0\n",
       "49999  No one expects the Star Trek movies to be high...          0\n",
       "\n",
       "[50000 rows x 2 columns]>"
      ]
     },
     "execution_count": 5,
     "metadata": {},
     "output_type": "execute_result"
    }
   ],
   "source": [
    "df.head"
   ]
  },
  {
   "cell_type": "code",
   "execution_count": 6,
   "metadata": {
    "colab": {
     "base_uri": "https://localhost:8080/"
    },
    "executionInfo": {
     "elapsed": 376,
     "status": "ok",
     "timestamp": 1683666223087,
     "user": {
      "displayName": "Ankit Kumar",
      "userId": "08027391101207374728"
     },
     "user_tz": -330
    },
    "id": "FOl5kXatT1M6",
    "outputId": "abe7c0de-a827-4194-9a06-f72713260739",
    "tags": []
   },
   "outputs": [
    {
     "data": {
      "text/plain": [
       "review       0\n",
       "sentiment    0\n",
       "dtype: int64"
      ]
     },
     "execution_count": 6,
     "metadata": {},
     "output_type": "execute_result"
    }
   ],
   "source": [
    "df.isnull().sum()\n"
   ]
  },
  {
   "cell_type": "code",
   "execution_count": 7,
   "metadata": {
    "id": "O9dJdGjcT1M6",
    "tags": []
   },
   "outputs": [],
   "source": [
    "X = df[\"review\"]\n",
    "y = df[\"sentiment\"]"
   ]
  },
  {
   "cell_type": "code",
   "execution_count": 8,
   "metadata": {
    "id": "jRZgrU4ET1M7",
    "tags": []
   },
   "outputs": [],
   "source": [
    "def stringprocess(text):\n",
    "    text = re.sub(r\"what's\", \"what is \", text)\n",
    "    text = re.sub(r\"\\'s\", \" is\", text)\n",
    "    text = re.sub(r\"\\'ve\", \" have \", text)\n",
    "    text = re.sub(r\"can't\", \"cannot \", text)\n",
    "    text = re.sub(r\"n't\", \" not \", text)\n",
    "    text = re.sub(r\"i'm\", \"i am \", text)\n",
    "    text = re.sub(r\"\\'re\", \" are \", text)\n",
    "    text = re.sub(r\"\\'d\", \" would \", text)\n",
    "    text = re.sub(r\"\\'ll\", \" will \", text)\n",
    "    text = re.sub(r\"\\'scuse\", \" excuse \", text)\n",
    "    text = re.sub('\\W', ' ', text)\n",
    "    text = re.sub('\\s+', ' ', text)\n",
    "    text = text.strip(' ')\n",
    "    \n",
    "    return text"
   ]
  },
  {
   "cell_type": "code",
   "execution_count": 9,
   "metadata": {
    "id": "vlbmOe7XT1M8",
    "tags": []
   },
   "outputs": [],
   "source": [
    "def  textpreprocess(text):\n",
    "    \n",
    "    text = map(lambda x: x.lower(), text) \n",
    "    text = map(lambda x: re.sub(r\"https?://\\S+|www\\.\\S+\", \"\", x), text) \n",
    "    text = map(lambda x: re.sub(re.compile(r\"<.*?>|&([a-z0-9]+|#[0-9]{1,6}|#x[0-9a-f]{1,6});\"),\"\", x), text) \n",
    "    text = map(lambda x: re.sub(r'[^\\x00-\\x7f]',r' ', x), text) \n",
    "\n",
    "    text = map(lambda x: x.translate(str.maketrans('', '', string.punctuation)), text) # Remove punctuations\n",
    "    \n",
    "    \n",
    "    remove_digits = str.maketrans('', '', digits)\n",
    "    text = [i.translate(remove_digits) for i in text]\n",
    "    text = [w for w in text if not w in stop_words]\n",
    "    text = ' '.join([lemmatizer.lemmatize(w) for w in text])\n",
    "    text = text.strip()\n",
    "    return text"
   ]
  },
  {
   "cell_type": "code",
   "execution_count": null,
   "metadata": {
    "colab": {
     "base_uri": "https://localhost:8080/"
    },
    "executionInfo": {
     "elapsed": 418,
     "status": "ok",
     "timestamp": 1683666236323,
     "user": {
      "displayName": "Ankit Kumar",
      "userId": "08027391101207374728"
     },
     "user_tz": -330
    },
    "id": "rAVmZJlzT1M9",
    "outputId": "d331ea07-2053-4652-95a9-095ee7bd0889",
    "tags": []
   },
   "outputs": [],
   "source": [
    "!unzip /usr/share/nltk_data/corpora/wordnet.zip -d /usr/share/nltk_data/corpora/"
   ]
  },
  {
   "cell_type": "code",
   "execution_count": null,
   "metadata": {
    "colab": {
     "base_uri": "https://localhost:8080/"
    },
    "executionInfo": {
     "elapsed": 4,
     "status": "ok",
     "timestamp": 1683666349883,
     "user": {
      "displayName": "Ankit Kumar",
      "userId": "08027391101207374728"
     },
     "user_tz": -330
    },
    "id": "nTptier_VHq3",
    "outputId": "bbb203fb-edd5-4f23-d2a7-ed882bc4fc45"
   },
   "outputs": [],
   "source": []
  },
  {
   "cell_type": "code",
   "execution_count": 10,
   "metadata": {
    "colab": {
     "base_uri": "https://localhost:8080/",
     "height": 129
    },
    "executionInfo": {
     "elapsed": 203364,
     "status": "ok",
     "timestamp": 1683666559002,
     "user": {
      "displayName": "Ankit Kumar",
      "userId": "08027391101207374728"
     },
     "user_tz": -330
    },
    "id": "N6nYtvaiT1M_",
    "outputId": "74d8fd06-414c-4bfd-9f55-a8b5036fc2c5",
    "tags": []
   },
   "outputs": [
    {
     "data": {
      "text/plain": [
       "'one reviewer mentioned watching  oz episode hooked right exactly happened br br first thing struck oz brutality unflinching scene violence set right word go trust show faint hearted timid show pull punch regard drug sex violence hardcore classic use word br br called oz nickname given oswald maximum security state penitentary focus mainly emerald city experimental section prison cell glass front face inwards privacy high agenda em city home many aryan muslim gangsta latino christian italian irish scuffle death stare dodgy dealing shady agreement never far away br br would say main appeal show due fact go show would dare forget pretty picture painted mainstream audience forget charm forget romance oz mess around first episode ever saw struck nasty surreal could say ready watched developed taste oz got accustomed high level graphic violence violence injustice crooked guard sold nickel inmate kill order get away well mannered middle class inmate turned prison bitch due lack street skill prison experience watching oz may become comfortable uncomfortable viewing thats get touch darker side'"
      ]
     },
     "execution_count": 10,
     "metadata": {},
     "output_type": "execute_result"
    }
   ],
   "source": [
    "X = X.apply(lambda x: stringprocess(x))\n",
    "word_tokens = X.apply(lambda x: word_tokenize(x))\n",
    "\n",
    "preprocess_text = word_tokens.apply(lambda x: textpreprocess(x))\n",
    "preprocess_text[0]"
   ]
  },
  {
   "cell_type": "code",
   "execution_count": 11,
   "metadata": {
    "colab": {
     "base_uri": "https://localhost:8080/"
    },
    "executionInfo": {
     "elapsed": 19,
     "status": "ok",
     "timestamp": 1683666559002,
     "user": {
      "displayName": "Ankit Kumar",
      "userId": "08027391101207374728"
     },
     "user_tz": -330
    },
    "id": "IfL648rAT1M_",
    "outputId": "48cb47f8-0583-4ec6-e63c-edc7ecf0ebf2"
   },
   "outputs": [
    {
     "name": "stdout",
     "output_type": "stream",
     "text": [
      "40000\n",
      "40000\n",
      "10000\n",
      "10000\n"
     ]
    }
   ],
   "source": [
    "training_portion = 0.8\n",
    "train_size = int(len(preprocess_text) * training_portion)\n",
    "\n",
    "train_data = preprocess_text[0: train_size]\n",
    "train_labels = np.array(y[0: train_size])\n",
    "\n",
    "validation_data = preprocess_text[train_size:]\n",
    "validation_labels = np.array(y[train_size:])\n",
    "\n",
    "\n",
    "print(len(train_data))\n",
    "print(len(train_labels))\n",
    "print(len(validation_data))\n",
    "print(len(validation_labels))"
   ]
  },
  {
   "cell_type": "code",
   "execution_count": 12,
   "metadata": {
    "colab": {
     "base_uri": "https://localhost:8080/"
    },
    "executionInfo": {
     "elapsed": 4669,
     "status": "ok",
     "timestamp": 1683666563667,
     "user": {
      "displayName": "Ankit Kumar",
      "userId": "08027391101207374728"
     },
     "user_tz": -330
    },
    "id": "GL5gRZmFT1NA",
    "outputId": "eb860182-cc81-4ba4-a0ee-0b80c2c6303c"
   },
   "outputs": [
    {
     "data": {
      "text/plain": [
       "{'<OOV>': 1,\n",
       " 'br': 2,\n",
       " 'movie': 3,\n",
       " 'film': 4,\n",
       " 'one': 5,\n",
       " 'like': 6,\n",
       " 'would': 7,\n",
       " 'time': 8,\n",
       " 'good': 9,\n",
       " 'character': 10}"
      ]
     },
     "execution_count": 12,
     "metadata": {},
     "output_type": "execute_result"
    }
   ],
   "source": [
    "vocab_size = 500\n",
    "oov_tok = '<OOV>'\n",
    "\n",
    "tokenizer = Tokenizer(num_words = vocab_size, oov_token=oov_tok)\n",
    "tokenizer.fit_on_texts(train_data)\n",
    "word_index = tokenizer.word_index\n",
    "dict(list(word_index.items())[0:10])"
   ]
  },
  {
   "cell_type": "code",
   "execution_count": 16,
   "metadata": {
    "colab": {
     "base_uri": "https://localhost:8080/"
    },
    "executionInfo": {
     "elapsed": 2835,
     "status": "ok",
     "timestamp": 1683666566499,
     "user": {
      "displayName": "Ankit Kumar",
      "userId": "08027391101207374728"
     },
     "user_tz": -330
    },
    "id": "4Q28TlH7T1NA",
    "outputId": "a4e973b7-f8e1-406f-dfce-8dcd4acbbf67"
   },
   "outputs": [
    {
     "name": "stdout",
     "output_type": "stream",
     "text": [
      "[1, 1, 5, 1, 4, 1, 332, 96, 1, 172, 153, 1, 1, 2, 2, 25, 1, 94, 69, 3, 1, 59, 285, 1, 69, 1, 2, 2, 251, 217, 4, 1, 42, 183, 94, 121, 10, 1, 313, 439, 2, 2, 1, 4, 7, 1, 1, 1, 1, 2, 2, 57, 1, 51, 124, 305, 73, 1]\n"
     ]
    }
   ],
   "source": [
    "train_sequences = tokenizer.texts_to_sequences(train_data)\n",
    "print(train_sequences[10])"
   ]
  },
  {
   "cell_type": "code",
   "execution_count": 17,
   "metadata": {
    "id": "SjInuOiuT1NB"
   },
   "outputs": [],
   "source": [
    "embedding_dim = 50\n",
    "max_length = 70\n",
    "\n",
    "trunc_type = 'post'  \n",
    "padding_type = 'post'"
   ]
  },
  {
   "cell_type": "code",
   "execution_count": 18,
   "metadata": {
    "colab": {
     "base_uri": "https://localhost:8080/"
    },
    "executionInfo": {
     "elapsed": 737,
     "status": "ok",
     "timestamp": 1683666567232,
     "user": {
      "displayName": "Ankit Kumar",
      "userId": "08027391101207374728"
     },
     "user_tz": -330
    },
    "id": "KHUTQWUAT1NB",
    "outputId": "2fd8cb1f-0af8-48f0-a07a-a224cc6ba6e7"
   },
   "outputs": [
    {
     "name": "stdout",
     "output_type": "stream",
     "text": [
      "170\n",
      "70\n"
     ]
    }
   ],
   "source": [
    "train_padded = pad_sequences(train_sequences, maxlen=max_length, padding=padding_type, truncating=trunc_type)\n",
    "print(len(train_sequences[0]))\n",
    "print(len(train_padded[0]))"
   ]
  },
  {
   "cell_type": "code",
   "execution_count": 19,
   "metadata": {
    "colab": {
     "base_uri": "https://localhost:8080/"
    },
    "executionInfo": {
     "elapsed": 28,
     "status": "ok",
     "timestamp": 1683666567232,
     "user": {
      "displayName": "Ankit Kumar",
      "userId": "08027391101207374728"
     },
     "user_tz": -330
    },
    "id": "r4FjQd0mT1NC",
    "outputId": "9b499e6d-23ea-4ef6-e642-93fdcb73cdaa"
   },
   "outputs": [
    {
     "data": {
      "text/plain": [
       "array([  5,   1,   1,  66,   1, 174,   1, 102, 494, 486,   2,   2,  25,\n",
       "        28,   1,   1,   1,   1,  18, 449, 114, 102, 244,  32,   1,  26,\n",
       "         1,   1,   1,  26,   1,   1,   1,   1, 266, 449,   1, 218, 254,\n",
       "       244,   2,   2, 325,   1,   1, 255,   1,   1,   1,   1,   1,   1,\n",
       "         1,   1, 382,   1,   1,   1,   1,   1,   1, 223,   1,   1, 200,\n",
       "         1,   1, 382, 238,  39], dtype=int32)"
      ]
     },
     "execution_count": 19,
     "metadata": {},
     "output_type": "execute_result"
    }
   ],
   "source": [
    "train_padded[0]"
   ]
  },
  {
   "cell_type": "code",
   "execution_count": 20,
   "metadata": {
    "colab": {
     "base_uri": "https://localhost:8080/"
    },
    "executionInfo": {
     "elapsed": 598,
     "status": "ok",
     "timestamp": 1683666567821,
     "user": {
      "displayName": "Ankit Kumar",
      "userId": "08027391101207374728"
     },
     "user_tz": -330
    },
    "id": "nLX8Zk7qT1NC",
    "outputId": "14d9a018-aea6-4841-849b-e430d8e27219"
   },
   "outputs": [
    {
     "name": "stdout",
     "output_type": "stream",
     "text": [
      "10000\n",
      "(10000, 70)\n"
     ]
    }
   ],
   "source": [
    "validation_sequences = tokenizer.texts_to_sequences(validation_data)\n",
    "validation_padded = pad_sequences(validation_sequences, maxlen=max_length, padding=padding_type, truncating=trunc_type)\n",
    "\n",
    "print(len(validation_sequences))\n",
    "print(validation_padded.shape)"
   ]
  },
  {
   "cell_type": "code",
   "execution_count": 21,
   "metadata": {
    "colab": {
     "base_uri": "https://localhost:8080/"
    },
    "executionInfo": {
     "elapsed": 17,
     "status": "ok",
     "timestamp": 1683666567822,
     "user": {
      "displayName": "Ankit Kumar",
      "userId": "08027391101207374728"
     },
     "user_tz": -330
    },
    "id": "04tZ1ERwT1NC",
    "outputId": "876d0d81-ff4c-4e71-d776-86d289e824b6"
   },
   "outputs": [
    {
     "name": "stdout",
     "output_type": "stream",
     "text": [
      "<OOV> <OOV> one <OOV> film <OOV> based around <OOV> everything rather <OOV> <OOV> br br first <OOV> pretty funny movie <OOV> find joke <OOV> funny <OOV> br br low budget film <OOV> never problem pretty interesting character <OOV> lost interest br br <OOV> film would <OOV> <OOV> <OOV> <OOV> br br something <OOV> better try brother another <OOV> ? ? ? ? ? ? ? ? ? ? ? ?\n",
      "---\n",
      "phil alien one quirky film humour based around oddness everything rather actual punchlines br br first odd pretty funny movie progressed find joke oddness funny anymore br br low budget film thats never problem pretty interesting character eventually lost interest br br imagine film would appeal stoner currently partaking br br something similar better try brother another planet\n"
     ]
    }
   ],
   "source": [
    "reverse_word_index = dict([(value, key) for (key, value) in word_index.items()])\n",
    "\n",
    "def decode_data(text):\n",
    "    return ' '.join([reverse_word_index.get(i, '?') for i in text])\n",
    "print(decode_data(train_padded[10]))\n",
    "print('---')\n",
    "print(train_data[10])"
   ]
  },
  {
   "cell_type": "code",
   "execution_count": 22,
   "metadata": {
    "colab": {
     "base_uri": "https://localhost:8080/"
    },
    "executionInfo": {
     "elapsed": 921,
     "status": "ok",
     "timestamp": 1683666568739,
     "user": {
      "displayName": "Ankit Kumar",
      "userId": "08027391101207374728"
     },
     "user_tz": -330
    },
    "id": "NeXfvQTsT1ND",
    "outputId": "2310061f-be7f-404a-ac57-3048efb01621"
   },
   "outputs": [
    {
     "name": "stdout",
     "output_type": "stream",
     "text": [
      "Model: \"sequential\"\n",
      "_________________________________________________________________\n",
      " Layer (type)                Output Shape              Param #   \n",
      "=================================================================\n",
      " embedding (Embedding)       (None, None, 50)          25000     \n",
      "                                                                 \n",
      " lstm (LSTM)                 (None, 64)                29440     \n",
      "                                                                 \n",
      " dense (Dense)               (None, 32)                2080      \n",
      "                                                                 \n",
      " dense_1 (Dense)             (None, 16)                528       \n",
      "                                                                 \n",
      " dense_2 (Dense)             (None, 1)                 17        \n",
      "                                                                 \n",
      "=================================================================\n",
      "Total params: 57,065\n",
      "Trainable params: 57,065\n",
      "Non-trainable params: 0\n",
      "_________________________________________________________________\n"
     ]
    }
   ],
   "source": [
    "model = tf.keras.Sequential([\n",
    "    tf.keras.layers.Embedding(vocab_size, embedding_dim),\n",
    "    tf.keras.layers.LSTM(64,activation='relu'),\n",
    "    tf.keras.layers.Dense(32, activation='relu'),\n",
    "    tf.keras.layers.Dense(16, activation='relu'),\n",
    "    tf.keras.layers.Dense(1, activation='sigmoid')\n",
    "])\n",
    "model.summary()"
   ]
  },
  {
   "cell_type": "code",
   "execution_count": null,
   "metadata": {},
   "outputs": [],
   "source": [
    "model.compile(loss='binary_crossentropy', optimizer='adam', metrics=['accuracy'])\n"
   ]
  },
  {
   "cell_type": "code",
   "execution_count": 24,
   "metadata": {},
   "outputs": [
    {
     "data": {
      "image/png": "[encoded data removed]",
      "text/plain": [
       "<IPython.core.display.Image object>"
      ]
     },
     "execution_count": 24,
     "metadata": {},
     "output_type": "execute_result"
    }
   ],
   "source": [
    "from keras.utils.vis_utils import plot_model\n",
    "plot_model(model, to_file='model_plot.png', show_shapes=True, show_layer_names=True)"
   ]
  },
  {
   "cell_type": "code",
   "execution_count": 23,
   "metadata": {
    "colab": {
     "base_uri": "https://localhost:8080/"
    },
    "executionInfo": {
     "elapsed": 325632,
     "status": "ok",
     "timestamp": 1683666894368,
     "user": {
      "displayName": "Ankit Kumar",
      "userId": "08027391101207374728"
     },
     "user_tz": -330
    },
    "id": "Lv-6HnkAT1ND",
    "outputId": "239fc290-29fb-4207-d027-68cf54e737ae"
   },
   "outputs": [
    {
     "name": "stdout",
     "output_type": "stream",
     "text": [
      "Epoch 1/5\n",
      "1250/1250 - 22s - loss: 31.4446 - accuracy: 0.5618 - val_loss: 0.6623 - val_accuracy: 0.6001 - 22s/epoch - 18ms/step\n",
      "Epoch 2/5\n",
      "1250/1250 - 19s - loss: 8.6003 - accuracy: 0.6108 - val_loss: 0.6411 - val_accuracy: 0.6304 - 19s/epoch - 15ms/step\n",
      "Epoch 3/5\n",
      "1250/1250 - 20s - loss: 0.6336 - accuracy: 0.6368 - val_loss: 64.2707 - val_accuracy: 0.6457 - 20s/epoch - 16ms/step\n",
      "Epoch 4/5\n",
      "1250/1250 - 19s - loss: 0.6220 - accuracy: 0.6507 - val_loss: 822.7459 - val_accuracy: 0.6502 - 19s/epoch - 15ms/step\n",
      "Epoch 5/5\n",
      "1250/1250 - 19s - loss: 85.8737 - accuracy: 0.6211 - val_loss: 0.6469 - val_accuracy: 0.6143 - 19s/epoch - 16ms/step\n"
     ]
    }
   ],
   "source": [
    "num_epochs = 5\n",
    "history = model.fit(train_padded, train_labels, epochs=num_epochs, validation_data=(validation_padded, validation_labels), verbose=2)"
   ]
  },
  {
   "cell_type": "code",
   "execution_count": 25,
   "metadata": {
    "colab": {
     "base_uri": "https://localhost:8080/",
     "height": 881
    },
    "executionInfo": {
     "elapsed": 909,
     "status": "ok",
     "timestamp": 1683666895261,
     "user": {
      "displayName": "Ankit Kumar",
      "userId": "08027391101207374728"
     },
     "user_tz": -330
    },
    "id": "a1vraME5T1NE",
    "outputId": "ab348d17-9de8-476a-f794-daddf5916a0e"
   },
   "outputs": [
    {
     "data": {
      "image/png": "[encoded data removed]",
      "text/plain": [
       "<Figure size 432x288 with 1 Axes>"
      ]
     },
     "metadata": {
      "needs_background": "light"
     },
     "output_type": "display_data"
    },
    {
     "data": {
      "image/png": "[encoded data removed]",
      "text/plain": [
       "<Figure size 432x288 with 1 Axes>"
      ]
     },
     "metadata": {
      "needs_background": "light"
     },
     "output_type": "display_data"
    }
   ],
   "source": [
    "def plot_graphs(history, string):\n",
    "    plt.plot(history.history[string])\n",
    "    plt.plot(history.history['val_'+string])\n",
    "    plt.xlabel(\"Epochs\")\n",
    "    plt.ylabel(string)\n",
    "    plt.legend([string, 'val_'+string])\n",
    "    plt.show()\n",
    "\n",
    "plot_graphs(history, \"accuracy\")\n",
    "plot_graphs(history, \"loss\")"
   ]
  },
  {
   "cell_type": "code",
   "execution_count": 26,
   "metadata": {
    "colab": {
     "base_uri": "https://localhost:8080/"
    },
    "executionInfo": {
     "elapsed": 17,
     "status": "ok",
     "timestamp": 1683666895262,
     "user": {
      "displayName": "Ankit Kumar",
      "userId": "08027391101207374728"
     },
     "user_tz": -330
    },
    "id": "iWXKWVgiT1NE",
    "outputId": "298edfde-7844-46a9-bad5-d9ff2afee8c3"
   },
   "outputs": [
    {
     "name": "stdout",
     "output_type": "stream",
     "text": [
      "Negative\n"
     ]
    }
   ],
   "source": [
    "\n",
    "seed_text = \"wonderful little production br br filming technique unassuming old time bbc fashion give comforting sometimes discomforting sense realism entire piece br br actor extremely well chosen michael sheen got polari voice pat truly see seamless editing guided reference williams diary entry well worth watching terrificly written performed piece masterful production one great master comedy life br br realism really come home little thing fantasy guard rather use traditional would ream technique remains solid disappears play knowledge sens particularly scene concerning orton halliwell set particularly flat halliwell mural decorating every surface terribly well done\"\n",
    "token_list = tokenizer.texts_to_sequences([seed_text])[0]\n",
    "token_list = pad_sequences([token_list], maxlen=max_length-1, padding=padding_type, truncating=trunc_type)\n",
    "predicted = (model.predict(token_list, verbose=0) > 0.5).astype(\"int32\")\n",
    "\n",
    "if predicted[0][0] == 0:\n",
    "    print(\"Negative\")\n",
    "else:\n",
    "    print(\"Positive\")\n"
   ]
  },
  {
   "cell_type": "code",
   "execution_count": 27,
   "metadata": {
    "id": "L21MM-K2T1NE"
   },
   "outputs": [
    {
     "data": {
      "text/plain": [
       "'wonderful little production br br filming technique unassuming old time bbc fashion give comforting sometimes discomforting sense realism entire piece br br actor extremely well chosen michael sheen got polari voice pat truly see seamless editing guided reference williams diary entry well worth watching terrificly written performed piece masterful production one great master comedy life br br realism really come home little thing fantasy guard rather use traditional would ream technique remains solid disappears play knowledge sens particularly scene concerning orton halliwell set particularly flat halliwell mural decorating every surface terribly well done'"
      ]
     },
     "execution_count": 27,
     "metadata": {},
     "output_type": "execute_result"
    }
   ],
   "source": [
    "preprocess_text[1]"
   ]
  },
  {
   "cell_type": "code",
   "execution_count": null,
   "metadata": {
    "id": "TWjuLVzMT1NE"
   },
   "outputs": [],
   "source": []
  }
 ],
 "metadata": {
  "colab": {
   "provenance": []
  },
  "kernelspec": {
   "display_name": "Python 3 (ipykernel)",
   "language": "python",
   "name": "python3"
  },
  "language_info": {
   "codemirror_mode": {
    "name": "ipython",
    "version": 3
   },
   "file_extension": ".py",
   "mimetype": "text/x-python",
   "name": "python",
   "nbconvert_exporter": "python",
   "pygments_lexer": "ipython3",
   "version": "3.9.7"
  }
 },
 "nbformat": 4,
 "nbformat_minor": 4
}
