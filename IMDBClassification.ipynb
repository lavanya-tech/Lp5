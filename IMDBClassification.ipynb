{
 "cells": [
  {
   "cell_type": "code",
   "execution_count": 1,
   "id": "5ab52b4c",
   "metadata": {},
   "outputs": [],
   "source": [
    "import numpy as np \n",
    "import pandas as pd \n",
    "import tensorflow as tf\n",
    "import string\n",
    "import re\n",
    "import os\n",
    "import nltk\n",
    "from nltk.corpus import stopwords, twitter_samples\n",
    "from nltk.stem import PorterStemmer\n",
    "from nltk.tokenize import TweetTokenizer\n",
    "\n",
    "import warnings\n",
    "warnings.filterwarnings('ignore')"
   ]
  },
  {
   "cell_type": "code",
   "execution_count": 2,
   "id": "42e4250b",
   "metadata": {},
   "outputs": [],
   "source": [
    "imdb_data = pd.read_csv(\"IMDB_Dataset.csv\")"
   ]
  },
  {
   "cell_type": "code",
   "execution_count": 3,
   "id": "312b263e",
   "metadata": {},
   "outputs": [],
   "source": [
    "# Converting the positive labels to 1 and the negative labels to 0\n",
    "\n",
    "imdb_data['sentiment'].mask(imdb_data['sentiment'] == 'positive', 1, inplace=True)\n",
    "imdb_data['sentiment'].mask(imdb_data['sentiment'] == 'negative', 0, inplace=True)"
   ]
  },
  {
   "cell_type": "code",
   "execution_count": 4,
   "id": "bb3bb8ec",
   "metadata": {},
   "outputs": [],
   "source": [
    "# Get the reviews and the labels\n",
    "\n",
    "all_reviews = list(imdb_data['review'])\n",
    "labels = np.asarray(imdb_data['sentiment'])"
   ]
  },
  {
   "cell_type": "code",
   "execution_count": 5,
   "id": "8392128d",
   "metadata": {},
   "outputs": [],
   "source": [
    "from tensorflow.keras.preprocessing.text import Tokenizer\n",
    "from tensorflow.keras.preprocessing.sequence import pad_sequences\n",
    "\n",
    "# cutoff reviews after 200 words\n",
    "maxlen = 200\n",
    "training_samples = 40000\n",
    "validation_samples = 5000\n",
    "testing_samples = 5000\n",
    "\n",
    "# consider the top 100000 words in the dataset\n",
    "max_words = 10000\n",
    "\n",
    "# tokenize each review in the dataset\n",
    "tokenizer = Tokenizer(num_words=max_words)\n",
    "tokenizer.fit_on_texts(all_reviews)\n",
    "sequences = tokenizer.texts_to_sequences(all_reviews)"
   ]
  },
  {
   "cell_type": "code",
   "execution_count": 6,
   "id": "10091089",
   "metadata": {},
   "outputs": [
    {
     "name": "stdout",
     "output_type": "stream",
     "text": [
      "Found 124252 unique tokens.\n"
     ]
    }
   ],
   "source": [
    "word_index = tokenizer.word_index\n",
    "print(\"Found {} unique tokens.\".format(len(word_index)))\n",
    "ind2word = dict([(value, key) for (key, value) in word_index.items()])"
   ]
  },
  {
   "cell_type": "code",
   "execution_count": 7,
   "id": "829ad5e6",
   "metadata": {},
   "outputs": [],
   "source": [
    "# pad the sequences so that all sequences are of the same size\n",
    "data = pad_sequences(sequences, maxlen=maxlen)"
   ]
  },
  {
   "cell_type": "code",
   "execution_count": 8,
   "id": "f8e3f48f",
   "metadata": {},
   "outputs": [],
   "source": [
    "# shuffling the data and labels\n",
    "\n",
    "indices = np.arange(data.shape[0])\n",
    "np.random.shuffle(indices)\n",
    "\n",
    "data = data[indices]\n",
    "labels = labels[indices]\n"
   ]
  },
  {
   "cell_type": "code",
   "execution_count": 9,
   "id": "fa17db76",
   "metadata": {},
   "outputs": [],
   "source": [
    "# Splitting the data set to training and validation datasets \n",
    "\n",
    "x_train = data[: training_samples]\n",
    "y_train = labels[: training_samples]\n",
    "\n",
    "x_val = data[training_samples : training_samples + validation_samples]\n",
    "y_val = labels[training_samples : training_samples + validation_samples]\n",
    "\n",
    "x_test = data[training_samples + validation_samples: training_samples + validation_samples + testing_samples]\n",
    "y_test = labels[training_samples + validation_samples: training_samples + validation_samples + testing_samples]\n",
    "\n",
    "\n",
    "x_train = np.asarray(x_train).astype(np.int)\n",
    "y_train = np.asarray(y_train).astype(np.int)\n",
    "x_val = np.asarray(x_val).astype(np.int)\n",
    "y_val = np.asarray(y_val).astype(np.int)\n",
    "x_test = np.asarray(x_test).astype(np.int)\n",
    "y_test = np.asarray(y_test).astype(np.int)"
   ]
  },
  {
   "cell_type": "code",
   "execution_count": 10,
   "id": "9617dcc8",
   "metadata": {},
   "outputs": [
    {
     "data": {
      "text/plain": [
       "(40000, 200)"
      ]
     },
     "execution_count": 10,
     "metadata": {},
     "output_type": "execute_result"
    }
   ],
   "source": [
    "x_train.shape"
   ]
  },
  {
   "cell_type": "code",
   "execution_count": 11,
   "id": "023302ee",
   "metadata": {},
   "outputs": [
    {
     "data": {
      "text/plain": [
       "(5000, 200)"
      ]
     },
     "execution_count": 11,
     "metadata": {},
     "output_type": "execute_result"
    }
   ],
   "source": [
    "x_val.shape"
   ]
  },
  {
   "cell_type": "code",
   "execution_count": 12,
   "id": "e19684d3",
   "metadata": {},
   "outputs": [
    {
     "data": {
      "text/plain": [
       "(5000, 200)"
      ]
     },
     "execution_count": 12,
     "metadata": {},
     "output_type": "execute_result"
    }
   ],
   "source": [
    "x_test.shape"
   ]
  },
  {
   "cell_type": "code",
   "execution_count": 13,
   "id": "a5192c4d",
   "metadata": {},
   "outputs": [],
   "source": [
    "#Simple Model\n",
    "embedding_dim = 300\n",
    "simple_model = tf.keras.models.Sequential([\n",
    "    tf.keras.layers.Embedding(max_words, embedding_dim, input_length=maxlen),\n",
    "    tf.keras.layers.GlobalAveragePooling1D(),\n",
    "    tf.keras.layers.Dense(256, activation='relu'),\n",
    "    tf.keras.layers.Dense(128, activation='relu'),\n",
    "    tf.keras.layers.Dense(64, activation='relu'),\n",
    "\n",
    "    tf.keras.layers.Dense(1, activation='sigmoid')\n",
    "])\n",
    "\n",
    "simple_model.compile(loss='binary_crossentropy',\n",
    "                     optimizer='adam',\n",
    "                     metrics=['accuracy'])"
   ]
  },
  {
   "cell_type": "code",
   "execution_count": 14,
   "id": "07ef1db3",
   "metadata": {},
   "outputs": [
    {
     "name": "stdout",
     "output_type": "stream",
     "text": [
      "Epoch 1/10\n",
      "1250/1250 [==============================] - 72s 57ms/step - loss: 0.3290 - accuracy: 0.8522 - val_loss: 0.2684 - val_accuracy: 0.8832\n",
      "Epoch 2/10\n",
      "1250/1250 [==============================] - 80s 64ms/step - loss: 0.2182 - accuracy: 0.9125 - val_loss: 0.2894 - val_accuracy: 0.8804\n",
      "Epoch 3/10\n",
      "1250/1250 [==============================] - 87s 70ms/step - loss: 0.1721 - accuracy: 0.9286 - val_loss: 0.3478 - val_accuracy: 0.8750\n",
      "Epoch 4/10\n",
      "1250/1250 [==============================] - 70s 56ms/step - loss: 0.1345 - accuracy: 0.9419 - val_loss: 0.3887 - val_accuracy: 0.8702\n",
      "Epoch 5/10\n",
      "1250/1250 [==============================] - 71s 57ms/step - loss: 0.1049 - accuracy: 0.9561 - val_loss: 0.4761 - val_accuracy: 0.8690\n",
      "Epoch 6/10\n",
      "1250/1250 [==============================] - 64s 51ms/step - loss: 0.0751 - accuracy: 0.9699 - val_loss: 0.5290 - val_accuracy: 0.8650\n",
      "Epoch 7/10\n",
      "1250/1250 [==============================] - 67s 54ms/step - loss: 0.0536 - accuracy: 0.9796 - val_loss: 0.6478 - val_accuracy: 0.8644\n",
      "Epoch 8/10\n",
      "1250/1250 [==============================] - 66s 52ms/step - loss: 0.0459 - accuracy: 0.9828 - val_loss: 0.7332 - val_accuracy: 0.8564\n",
      "Epoch 9/10\n",
      "1250/1250 [==============================] - 69s 55ms/step - loss: 0.0293 - accuracy: 0.9894 - val_loss: 0.8286 - val_accuracy: 0.8568\n",
      "Epoch 10/10\n",
      "1250/1250 [==============================] - 72s 58ms/step - loss: 0.0283 - accuracy: 0.9900 - val_loss: 1.0067 - val_accuracy: 0.8674\n"
     ]
    }
   ],
   "source": [
    "simple_model_history = simple_model.fit(x_train,y_train,\n",
    "                                        validation_data=(x_val,y_val),\n",
    "                                        epochs=10)"
   ]
  },
  {
   "cell_type": "code",
   "execution_count": 15,
   "id": "7e153a07",
   "metadata": {},
   "outputs": [],
   "source": [
    "embedding_dim = 300\n",
    "lstm_model = tf.keras.models.Sequential([\n",
    "    tf.keras.layers.Embedding(max_words, embedding_dim, input_length=maxlen),\n",
    "    tf.keras.layers.LSTM(units=64, activation='tanh', return_sequences=True),\n",
    "    tf.keras.layers.LSTM(units=32, activation='tanh'),\n",
    "\n",
    "    tf.keras.layers.Dense(1, activation='sigmoid')\n",
    "])\n",
    "\n",
    "lstm_model.compile(loss='binary_crossentropy',\n",
    "                   optimizer='adam',\n",
    "                   metrics=['accuracy'])"
   ]
  },
  {
   "cell_type": "code",
   "execution_count": 16,
   "id": "081d56d8",
   "metadata": {},
   "outputs": [
    {
     "name": "stdout",
     "output_type": "stream",
     "text": [
      "Epoch 1/7\n",
      "1250/1250 [==============================] - 276s 218ms/step - loss: 0.3836 - accuracy: 0.8322 - val_loss: 0.3957 - val_accuracy: 0.8278\n",
      "Epoch 2/7\n",
      "1250/1250 [==============================] - 261s 209ms/step - loss: 0.2433 - accuracy: 0.9052 - val_loss: 0.3017 - val_accuracy: 0.8794\n",
      "Epoch 3/7\n",
      "1250/1250 [==============================] - 271s 217ms/step - loss: 0.1880 - accuracy: 0.9273 - val_loss: 0.3045 - val_accuracy: 0.8828\n",
      "Epoch 4/7\n",
      "1250/1250 [==============================] - 580s 464ms/step - loss: 0.1287 - accuracy: 0.9538 - val_loss: 0.3153 - val_accuracy: 0.8778\n",
      "Epoch 5/7\n",
      "1250/1250 [==============================] - 490s 392ms/step - loss: 0.0943 - accuracy: 0.9672 - val_loss: 0.3837 - val_accuracy: 0.8720\n",
      "Epoch 6/7\n",
      "1250/1250 [==============================] - 473s 379ms/step - loss: 0.0740 - accuracy: 0.9748 - val_loss: 0.3872 - val_accuracy: 0.8830\n",
      "Epoch 7/7\n",
      "1250/1250 [==============================] - 432s 345ms/step - loss: 0.0547 - accuracy: 0.9821 - val_loss: 0.4315 - val_accuracy: 0.8746\n"
     ]
    }
   ],
   "source": [
    "lstm_model_history = lstm_model.fit(x_train,y_train,\n",
    "                                    validation_data=(x_val,y_val),\n",
    "                                    epochs=7)"
   ]
  },
  {
   "cell_type": "code",
   "execution_count": 17,
   "id": "8e522a5c",
   "metadata": {},
   "outputs": [],
   "source": [
    "embedding_dim = 300\n",
    "gru_model = tf.keras.models.Sequential([\n",
    "    tf.keras.layers.Embedding(max_words, embedding_dim, input_length=maxlen),\n",
    "    tf.keras.layers.GRU(units=64, activation='tanh', return_sequences=True),\n",
    "    tf.keras.layers.GRU(units=32, activation='tanh'),\n",
    "\n",
    "    tf.keras.layers.Dense(1, activation='sigmoid')\n",
    "])\n",
    "\n",
    "gru_model.compile(loss='binary_crossentropy',\n",
    "                  optimizer='adam',\n",
    "                  metrics=['accuracy'])"
   ]
  },
  {
   "cell_type": "code",
   "execution_count": 18,
   "id": "88040d15",
   "metadata": {},
   "outputs": [
    {
     "name": "stdout",
     "output_type": "stream",
     "text": [
      "Epoch 1/7\n",
      "1250/1250 [==============================] - 389s 300ms/step - loss: 0.3577 - accuracy: 0.8418 - val_loss: 0.2723 - val_accuracy: 0.8858\n",
      "Epoch 2/7\n",
      "1250/1250 [==============================] - 426s 341ms/step - loss: 0.1961 - accuracy: 0.9255 - val_loss: 0.2582 - val_accuracy: 0.8920\n",
      "Epoch 3/7\n",
      "1250/1250 [==============================] - 443s 354ms/step - loss: 0.1235 - accuracy: 0.9569 - val_loss: 0.2878 - val_accuracy: 0.8862\n",
      "Epoch 4/7\n",
      "1250/1250 [==============================] - 405s 324ms/step - loss: 0.0759 - accuracy: 0.9750 - val_loss: 0.3882 - val_accuracy: 0.8830\n",
      "Epoch 5/7\n",
      "1250/1250 [==============================] - 406s 325ms/step - loss: 0.0479 - accuracy: 0.9841 - val_loss: 0.3998 - val_accuracy: 0.8774\n",
      "Epoch 6/7\n",
      "1250/1250 [==============================] - 380s 304ms/step - loss: 0.0314 - accuracy: 0.9898 - val_loss: 0.4668 - val_accuracy: 0.8824\n",
      "Epoch 7/7\n",
      "1250/1250 [==============================] - 401s 321ms/step - loss: 0.0231 - accuracy: 0.9923 - val_loss: 0.5213 - val_accuracy: 0.8780\n"
     ]
    }
   ],
   "source": [
    "gru_model_history = gru_model.fit(x_train,y_train,\n",
    "                                  validation_data=(x_val,y_val),\n",
    "                                  epochs=7)"
   ]
  },
  {
   "cell_type": "code",
   "execution_count": 19,
   "id": "3568cf49",
   "metadata": {},
   "outputs": [],
   "source": [
    "def eval_model(model):\n",
    "    \n",
    "    model_acc_train_dataset = model.evaluate(x_train, y_train)\n",
    "    model_acc_val_dataset = model.evaluate(x_val, y_val)\n",
    "    model_acc_test_dataset = model.evaluate(x_test, y_test)\n",
    "    \n",
    "    return model_acc_train_dataset, model_acc_val_dataset, model_acc_test_dataset"
   ]
  },
  {
   "cell_type": "code",
   "execution_count": 20,
   "id": "1ea62fd5",
   "metadata": {},
   "outputs": [
    {
     "name": "stdout",
     "output_type": "stream",
     "text": [
      "1250/1250 [==============================] - 15s 12ms/step - loss: 0.0298 - accuracy: 0.9900\n",
      "157/157 [==============================] - 2s 11ms/step - loss: 1.0067 - accuracy: 0.8674\n",
      "157/157 [==============================] - 2s 11ms/step - loss: 1.0226 - accuracy: 0.8732\n",
      "1250/1250 [==============================] - 109s 86ms/step - loss: 0.0113 - accuracy: 0.9967\n",
      "157/157 [==============================] - 13s 84ms/step - loss: 0.5213 - accuracy: 0.8780\n",
      "157/157 [==============================] - 13s 85ms/step - loss: 0.5329 - accuracy: 0.8846\n",
      "1250/1250 [==============================] - 121s 96ms/step - loss: 0.0285 - accuracy: 0.9926\n",
      "157/157 [==============================] - 15s 93ms/step - loss: 0.4315 - accuracy: 0.8746\n",
      "157/157 [==============================] - 15s 94ms/step - loss: 0.4249 - accuracy: 0.8796\n"
     ]
    }
   ],
   "source": [
    "simple_model_acc_train_dataset, simple_model_acc_val_dataset, simple_model_acc_test_dataset = eval_model(simple_model)\n",
    "gru_model_acc_train_dataset, gru_model_acc_val_dataset, gru_model_acc_test_dataset = eval_model(gru_model)\n",
    "lstm_model_acc_train_dataset, lstm_model_acc_val_dataset, lstm_model_acc_test_dataset = eval_model(lstm_model)"
   ]
  },
  {
   "cell_type": "code",
   "execution_count": 21,
   "id": "66e69263",
   "metadata": {},
   "outputs": [],
   "source": [
    "train_accs = [simple_model_acc_train_dataset[1], gru_model_acc_train_dataset[1],\n",
    "              lstm_model_acc_train_dataset[1]]\n",
    "val_accs = [simple_model_acc_val_dataset[1], gru_model_acc_val_dataset[1],\n",
    "            lstm_model_acc_val_dataset[1]]\n",
    "test_accs = [simple_model_acc_test_dataset[1], gru_model_acc_test_dataset[1],\n",
    "             lstm_model_acc_test_dataset[1]]"
   ]
  },
  {
   "cell_type": "code",
   "execution_count": 22,
   "id": "57399c31",
   "metadata": {},
   "outputs": [],
   "source": [
    "models_eval_df = pd.DataFrame({\"Training Accuracy\":train_accs, \"Validation Accuracy\":val_accs, \"Testing Accuracy\":test_accs},\n",
    "                              index=['simple_model', 'gru_model','lstm_model'])"
   ]
  },
  {
   "cell_type": "code",
   "execution_count": 23,
   "id": "61fd7af5",
   "metadata": {},
   "outputs": [
    {
     "data": {
      "text/html": [
       "<div>\n",
       "<style scoped>\n",
       "    .dataframe tbody tr th:only-of-type {\n",
       "        vertical-align: middle;\n",
       "    }\n",
       "\n",
       "    .dataframe tbody tr th {\n",
       "        vertical-align: top;\n",
       "    }\n",
       "\n",
       "    .dataframe thead th {\n",
       "        text-align: right;\n",
       "    }\n",
       "</style>\n",
       "<table border=\"1\" class=\"dataframe\">\n",
       "  <thead>\n",
       "    <tr style=\"text-align: right;\">\n",
       "      <th></th>\n",
       "      <th>Training Accuracy</th>\n",
       "      <th>Validation Accuracy</th>\n",
       "      <th>Testing Accuracy</th>\n",
       "    </tr>\n",
       "  </thead>\n",
       "  <tbody>\n",
       "    <tr>\n",
       "      <th>simple_model</th>\n",
       "      <td>0.990025</td>\n",
       "      <td>0.8674</td>\n",
       "      <td>0.8732</td>\n",
       "    </tr>\n",
       "    <tr>\n",
       "      <th>gru_model</th>\n",
       "      <td>0.996725</td>\n",
       "      <td>0.8780</td>\n",
       "      <td>0.8846</td>\n",
       "    </tr>\n",
       "    <tr>\n",
       "      <th>lstm_model</th>\n",
       "      <td>0.992550</td>\n",
       "      <td>0.8746</td>\n",
       "      <td>0.8796</td>\n",
       "    </tr>\n",
       "  </tbody>\n",
       "</table>\n",
       "</div>"
      ],
      "text/plain": [
       "              Training Accuracy  Validation Accuracy  Testing Accuracy\n",
       "simple_model           0.990025               0.8674            0.8732\n",
       "gru_model              0.996725               0.8780            0.8846\n",
       "lstm_model             0.992550               0.8746            0.8796"
      ]
     },
     "execution_count": 23,
     "metadata": {},
     "output_type": "execute_result"
    }
   ],
   "source": [
    "models_eval_df"
   ]
  },
  {
   "cell_type": "code",
   "execution_count": null,
   "id": "ffea17fb",
   "metadata": {},
   "outputs": [],
   "source": []
  }
 ],
 "metadata": {
  "kernelspec": {
   "display_name": "Python 3 (ipykernel)",
   "language": "python",
   "name": "python3"
  },
  "language_info": {
   "codemirror_mode": {
    "name": "ipython",
    "version": 3
   },
   "file_extension": ".py",
   "mimetype": "text/x-python",
   "name": "python",
   "nbconvert_exporter": "python",
   "pygments_lexer": "ipython3",
   "version": "3.9.0"
  }
 },
 "nbformat": 4,
 "nbformat_minor": 5
}
